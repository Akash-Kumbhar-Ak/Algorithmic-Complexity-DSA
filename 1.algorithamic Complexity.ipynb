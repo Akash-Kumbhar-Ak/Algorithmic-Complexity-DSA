{
 "cells": [
  {
   "cell_type": "markdown",
   "id": "2435cf14",
   "metadata": {},
   "source": [
    "# Algorithmic Complexity"
   ]
  },
  {
   "cell_type": "markdown",
   "id": "e9bb117f",
   "metadata": {},
   "source": [
    "__What is efficiency in programming ?__"
   ]
  },
  {
   "cell_type": "markdown",
   "id": "ca2f971e",
   "metadata": {},
   "source": [
    "Time\n",
    "\n",
    "Space"
   ]
  },
  {
   "cell_type": "markdown",
   "id": "d0b3c72f",
   "metadata": {},
   "source": [
    "# 1) Time Efficiecny "
   ]
  },
  {
   "cell_type": "markdown",
   "id": "54b10ee3",
   "metadata": {},
   "source": [
    "techniques to measure time.\n",
    "\n",
    "    `1 Measuring time to excute .\n",
    "    \n",
    "    2 Counting Opeartion Involved. \n",
    "    \n",
    "    3 Abtract notion of order of growth."
   ]
  },
  {
   "cell_type": "markdown",
   "id": "93e8b9ce",
   "metadata": {},
   "source": [
    "# 1. Measuring Time "
   ]
  },
  {
   "cell_type": "code",
   "execution_count": 6,
   "id": "e3c4897e",
   "metadata": {},
   "outputs": [
    {
     "name": "stdout",
     "output_type": "stream",
     "text": [
      "1\n",
      "2\n",
      "3\n",
      "4\n",
      "completed task within 0.0\n"
     ]
    }
   ],
   "source": [
    "import time\n",
    "start =time.time()\n",
    "for i in range(1,5):\n",
    "    print(i)\n",
    "print(\"completed task within\",time.time()-start)"
   ]
  },
  {
   "cell_type": "markdown",
   "id": "ad5b940c",
   "metadata": {},
   "source": [
    "Problem with this approch\n",
    "- Different time for different algoritham          __good__\n",
    "- Times varies if the implementation changes       __X__\n",
    "- Different machine different time                 __X__\n",
    "- Does Not working for extremely small input       __X__\n",
    "- Time varies for diferent inputs,but can't establish relationship       __X__\n",
    "\n",
    "__`For this reason 1 techniques is not valid`__\n",
    "  "
   ]
  },
  {
   "cell_type": "markdown",
   "id": "7a015dff",
   "metadata": {},
   "source": [
    "# 2. Counting Opearations"
   ]
  },
  {
   "cell_type": "code",
   "execution_count": 11,
   "id": "88a942ce",
   "metadata": {},
   "outputs": [
    {
     "data": {
      "text/plain": [
       "37.4"
      ]
     },
     "execution_count": 11,
     "metadata": {},
     "output_type": "execute_result"
    }
   ],
   "source": [
    "def c_l_f(c):\n",
    "    return c*9.0/5+32\n",
    "c_l_f(3)\n",
    "\n",
    "\n"
   ]
  },
  {
   "cell_type": "markdown",
   "id": "484c7873",
   "metadata": {},
   "source": [
    "- count the opration \n",
    "- in this code we can say there are three opeation \n",
    "- first c * 9.0\n",
    "- second ans of C*9.0 is divide with 5\n",
    "- and last third is second ans adding the 32 \n",
    "\n"
   ]
  },
  {
   "cell_type": "code",
   "execution_count": 16,
   "id": "b5b610fe",
   "metadata": {},
   "outputs": [
    {
     "data": {
      "text/plain": [
       "55"
      ]
     },
     "execution_count": 16,
     "metadata": {},
     "output_type": "execute_result"
    }
   ],
   "source": [
    "def mysum(x):\n",
    "    total=0  #one Operation \n",
    "    for i in range(x+1): #loop times  #1 opeation\n",
    "        total+=i # 2 operations \n",
    "    return total \n",
    "mysum(10)\n",
    "\n",
    "# total opeation \n",
    "# 1+3x (means there is relationship with x input)\n",
    "\n",
    "#e.g => input=4\n",
    "# using the equation \n",
    "# 1 +3*4=13 operation are performed "
   ]
  },
  {
   "cell_type": "markdown",
   "id": "8c2730b2",
   "metadata": {},
   "source": [
    "# Problem with this approch \n",
    "- Different time for different algoritham          __good__\n",
    "- Times varies if the implementation changes       __X__\n",
    "- Different machine different time                 __Good__\n",
    "- Does Not working for extremely small input       __X__\n",
    "- Time varies for diferent inputs,but can't establish relationship       __Good__"
   ]
  },
  {
   "cell_type": "markdown",
   "id": "b350bc72",
   "metadata": {},
   "source": [
    "# what do you want \n",
    "- We want to evaluate algorithm\n",
    "- We want to evaluate Scalability\n",
    "- We want to evaluate in terms of input size "
   ]
  },
  {
   "cell_type": "markdown",
   "id": "c529c2c0",
   "metadata": {},
   "source": [
    "# Different Input change How the program runs "
   ]
  },
  {
   "cell_type": "code",
   "execution_count": 18,
   "id": "de28cb1e",
   "metadata": {},
   "outputs": [],
   "source": [
    "# -a function that searches for an element in a list\n",
    "def Search_for_elmt(L,e):\n",
    "    for i in L:\n",
    "        if i==e:\n",
    "            return True \n",
    "    return False"
   ]
  },
  {
   "cell_type": "markdown",
   "id": "768e0d86",
   "metadata": {},
   "source": [
    "- When e is first element in the list => __Best Case__\n",
    "- When e is not ni list  =>  __Worst Case__\n",
    "- When look through about half of the elements in list => __Avarage Case__"
   ]
  },
  {
   "cell_type": "markdown",
   "id": "f51ecdb0",
   "metadata": {},
   "source": [
    "# 3.Order Of Growth"
   ]
  },
  {
   "cell_type": "code",
   "execution_count": null,
   "id": "a9c8eae4",
   "metadata": {},
   "outputs": [],
   "source": []
  }
 ],
 "metadata": {
  "kernelspec": {
   "display_name": "Python 3 (ipykernel)",
   "language": "python",
   "name": "python3"
  },
  "language_info": {
   "codemirror_mode": {
    "name": "ipython",
    "version": 3
   },
   "file_extension": ".py",
   "mimetype": "text/x-python",
   "name": "python",
   "nbconvert_exporter": "python",
   "pygments_lexer": "ipython3",
   "version": "3.9.13"
  }
 },
 "nbformat": 4,
 "nbformat_minor": 5
}
